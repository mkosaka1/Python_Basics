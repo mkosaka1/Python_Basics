{
 "cells": [
  {
   "cell_type": "code",
   "execution_count": 1,
   "metadata": {},
   "outputs": [],
   "source": [
    "class Employee:\n",
    "    pass\n",
    "\n",
    "employee1=Employee()\n",
    "employee2=Employee()"
   ]
  },
  {
   "cell_type": "code",
   "execution_count": 2,
   "metadata": {},
   "outputs": [
    {
     "name": "stdout",
     "output_type": "stream",
     "text": [
      "Matt\n",
      "60000\n"
     ]
    }
   ],
   "source": [
    "class Employee:\n",
    "    pass\n",
    "\n",
    "employee1=Employee()\n",
    "employee1.name='Matt'\n",
    "employee1.income=60000\n",
    "\n",
    "print(employee1.name)\n",
    "print(employee1.income)"
   ]
  },
  {
   "cell_type": "code",
   "execution_count": 5,
   "metadata": {},
   "outputs": [
    {
     "name": "stdout",
     "output_type": "stream",
     "text": [
      "Low Earning\n"
     ]
    }
   ],
   "source": [
    "class Employee:\n",
    "    def earning(self):\n",
    "        if self.income >= 80000:\n",
    "            return 'High Earning'\n",
    "        elif (self.income<8000) & (self.income>50000):\n",
    "            return \"Medium Earning\"\n",
    "        else:\n",
    "            return \"Low Earning\"\n",
    "        \n",
    "\n",
    "employee1=Employee()\n",
    "employee1.name='Matt'\n",
    "employee1.income=50000\n",
    "\n",
    "level_earning=employee1.earning()\n",
    "print(level_earning)"
   ]
  },
  {
   "cell_type": "code",
   "execution_count": 7,
   "metadata": {},
   "outputs": [
    {
     "name": "stdout",
     "output_type": "stream",
     "text": [
      "Low Earning\n",
      "High Earning\n"
     ]
    }
   ],
   "source": [
    "class Employee:\n",
    "    def earning(self):\n",
    "        if self.income >= 80000:\n",
    "            return 'High Earning'\n",
    "        elif (self.income<8000) & (self.income>50000):\n",
    "            return \"Medium Earning\"\n",
    "        else:\n",
    "            return \"Low Earning\"\n",
    "        \n",
    "\n",
    "employee1=Employee()\n",
    "employee1.name='Matt'\n",
    "employee1.income=50000\n",
    "\n",
    "level_earning=employee1.earning()\n",
    "print(level_earning)\n",
    "\n",
    "employee2=Employee()\n",
    "employee2.name='Penelope'\n",
    "employee2.income=90000\n",
    "\n",
    "level_earning=employee2.earning()\n",
    "print(level_earning)"
   ]
  },
  {
   "cell_type": "code",
   "execution_count": 8,
   "metadata": {},
   "outputs": [
    {
     "name": "stdout",
     "output_type": "stream",
     "text": [
      "Matt\n",
      "50000\n"
     ]
    }
   ],
   "source": [
    "class Employee:\n",
    "    def __init__(self, name, income):\n",
    "        self.name=name\n",
    "        self.income=income\n",
    "        \n",
    "    def earning(self):\n",
    "        if self.income >= 80000:\n",
    "            return 'High Earning'\n",
    "        elif (self.income<8000) & (self.income>50000):\n",
    "            return \"Medium Earning\"\n",
    "        else:\n",
    "            return \"Low Earning\"\n",
    "        \n",
    "\n",
    "employee1=Employee('Matt',50000)\n",
    "print(employee1.name)\n",
    "print(employee1.income)"
   ]
  },
  {
   "cell_type": "code",
   "execution_count": 9,
   "metadata": {},
   "outputs": [
    {
     "name": "stdout",
     "output_type": "stream",
     "text": [
      "Matt\n",
      "50000\n",
      "Penelope\n",
      "90000\n"
     ]
    }
   ],
   "source": [
    "class Employee:\n",
    "    def __init__(self, name, income):\n",
    "        self.name=name\n",
    "        self.income=income\n",
    "        \n",
    "    def earning(self):\n",
    "        if self.income >= 80000:\n",
    "            return 'High Earning'\n",
    "        elif (self.income<8000) & (self.income>50000):\n",
    "            return \"Medium Earning\"\n",
    "        else:\n",
    "            return \"Low Earning\"\n",
    "        \n",
    "\n",
    "employee1=Employee('Matt',50000)\n",
    "print(employee1.name)\n",
    "print(employee1.income)\n",
    "\n",
    "employee2=Employee('Penelope',90000)\n",
    "print(employee2.name)\n",
    "print(employee2.income)"
   ]
  },
  {
   "cell_type": "code",
   "execution_count": 13,
   "metadata": {},
   "outputs": [
    {
     "name": "stdout",
     "output_type": "stream",
     "text": [
      "Matt = Low Earning\n",
      "Penelope = High Earning\n"
     ]
    }
   ],
   "source": [
    "class Employee:\n",
    "    def __init__(self, name, income):\n",
    "        self.name=name\n",
    "        self.income=income\n",
    "        \n",
    "    def earning(self):\n",
    "        if self.income >= 80000:\n",
    "            return 'High Earning'\n",
    "        elif (self.income<8000) & (self.income>50000):\n",
    "            return \"Medium Earning\"\n",
    "        else:\n",
    "            return \"Low Earning\"\n",
    "        \n",
    "\n",
    "employee1=Employee('Matt',50000)\n",
    "level_earning=employee1.earning()\n",
    "print(employee1.name, \"=\", level_earning)\n",
    "\n",
    "employee2=Employee('Penelope',90000)\n",
    "level_earning=employee2.earning()\n",
    "print(employee2.name, \"=\", level_earning)"
   ]
  },
  {
   "cell_type": "code",
   "execution_count": null,
   "metadata": {},
   "outputs": [],
   "source": []
  }
 ],
 "metadata": {
  "kernelspec": {
   "display_name": "Python 3",
   "language": "python",
   "name": "python3"
  },
  "language_info": {
   "codemirror_mode": {
    "name": "ipython",
    "version": 3
   },
   "file_extension": ".py",
   "mimetype": "text/x-python",
   "name": "python",
   "nbconvert_exporter": "python",
   "pygments_lexer": "ipython3",
   "version": "3.6.9"
  }
 },
 "nbformat": 4,
 "nbformat_minor": 2
}
