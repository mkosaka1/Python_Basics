{
 "cells": [
  {
   "cell_type": "code",
   "execution_count": 13,
   "metadata": {},
   "outputs": [
    {
     "name": "stdout",
     "output_type": "stream",
     "text": [
      "Employee 1 is <__main__.Employee object at 0x102f9a748>\n",
      "Employee 2 is <__main__.Employee object at 0x102f9add8>\n"
     ]
    }
   ],
   "source": [
    "class Employee:\n",
    "    pass\n",
    "\n",
    "employee1=Employee()\n",
    "employee2=Employee()\n",
    "\n",
    "print(\"Employee 1 is\", employee1)\n",
    "print(\"Employee 2 is\", employee2)"
   ]
  },
  {
   "cell_type": "code",
   "execution_count": 14,
   "metadata": {
    "scrolled": false
   },
   "outputs": [
    {
     "name": "stdout",
     "output_type": "stream",
     "text": [
      "Matt\n",
      "50000\n",
      "Penelope\n",
      "90000\n"
     ]
    }
   ],
   "source": [
    "class Employee:\n",
    "    pass\n",
    "\n",
    "employee1=Employee()\n",
    "employee1.name='Matt'\n",
    "employee1.income=50000\n",
    "\n",
    "print(employee1.name)\n",
    "print(employee1.income)\n",
    "\n",
    "employee2=Employee()\n",
    "employee2.name='Penelope'\n",
    "employee2.income=90000\n",
    "\n",
    "print(employee2.name)\n",
    "print(employee2.income)"
   ]
  },
  {
   "cell_type": "code",
   "execution_count": 12,
   "metadata": {},
   "outputs": [
    {
     "name": "stdout",
     "output_type": "stream",
     "text": [
      "This is a docstring in the Employee class\n"
     ]
    }
   ],
   "source": [
    "class Employee:\n",
    "    \"This is a docstring in the Employee class\"\n",
    "    pass\n",
    "\n",
    "print(Employee.__doc__)"
   ]
  },
  {
   "cell_type": "code",
   "execution_count": 3,
   "metadata": {},
   "outputs": [
    {
     "name": "stdout",
     "output_type": "stream",
     "text": [
      "Low Earning\n"
     ]
    }
   ],
   "source": [
    "class Employee:\n",
    "    def earning(self):\n",
    "        if self.income >= 80000:\n",
    "            return 'High Earning'\n",
    "        elif (self.income<8000) & (self.income>50000):\n",
    "            return \"Medium Earning\"\n",
    "        else:\n",
    "            return \"Low Earning\"\n",
    "        \n",
    "\n",
    "employee1=Employee()\n",
    "employee1.name='Matt'\n",
    "employee1.income=50000\n",
    "\n",
    "level_earning=employee1.earning()\n",
    "print(level_earning)"
   ]
  },
  {
   "cell_type": "code",
   "execution_count": 4,
   "metadata": {},
   "outputs": [
    {
     "name": "stdout",
     "output_type": "stream",
     "text": [
      "Low Earning\n",
      "High Earning\n"
     ]
    }
   ],
   "source": [
    "class Employee:\n",
    "    def earning(self):\n",
    "        if self.income >= 80000:\n",
    "            return 'High Earning'\n",
    "        elif (self.income<8000) & (self.income>50000):\n",
    "            return \"Medium Earning\"\n",
    "        else:\n",
    "            return \"Low Earning\"\n",
    "        \n",
    "\n",
    "employee1=Employee()\n",
    "employee1.name='Matt'\n",
    "employee1.income=50000\n",
    "\n",
    "level_earning=employee1.earning()\n",
    "print(level_earning)\n",
    "\n",
    "employee2=Employee()\n",
    "employee2.name='Penelope'\n",
    "employee2.income=90000\n",
    "\n",
    "level_earning=employee2.earning()\n",
    "print(level_earning)"
   ]
  },
  {
   "cell_type": "code",
   "execution_count": 5,
   "metadata": {},
   "outputs": [
    {
     "name": "stdout",
     "output_type": "stream",
     "text": [
      "Matt\n",
      "50000\n"
     ]
    }
   ],
   "source": [
    "class Employee:\n",
    "    def __init__(self, name, income):\n",
    "        self.name=name\n",
    "        self.income=income\n",
    "        \n",
    "    def earning(self):\n",
    "        if self.income >= 80000:\n",
    "            return 'High Earning'\n",
    "        elif (self.income<8000) & (self.income>50000):\n",
    "            return \"Medium Earning\"\n",
    "        else:\n",
    "            return \"Low Earning\"\n",
    "        \n",
    "\n",
    "employee1=Employee('Matt',50000)\n",
    "print(employee1.name)\n",
    "print(employee1.income)"
   ]
  },
  {
   "cell_type": "code",
   "execution_count": 6,
   "metadata": {},
   "outputs": [
    {
     "name": "stdout",
     "output_type": "stream",
     "text": [
      "Matt\n",
      "50000\n",
      "Penelope\n",
      "90000\n"
     ]
    }
   ],
   "source": [
    "class Employee:\n",
    "    def __init__(self, name, income):\n",
    "        self.name=name\n",
    "        self.income=income\n",
    "        \n",
    "    def earning(self):\n",
    "        if self.income >= 80000:\n",
    "            return 'High Earning'\n",
    "        elif (self.income<8000) & (self.income>50000):\n",
    "            return \"Medium Earning\"\n",
    "        else:\n",
    "            return \"Low Earning\"\n",
    "        \n",
    "\n",
    "employee1=Employee('Matt',50000)\n",
    "print(employee1.name)\n",
    "print(employee1.income)\n",
    "\n",
    "employee2=Employee('Penelope',90000)\n",
    "print(employee2.name)\n",
    "print(employee2.income)"
   ]
  },
  {
   "cell_type": "code",
   "execution_count": 7,
   "metadata": {},
   "outputs": [
    {
     "name": "stdout",
     "output_type": "stream",
     "text": [
      "Matt = Low Earning\n",
      "Penelope = High Earning\n"
     ]
    }
   ],
   "source": [
    "class Employee:\n",
    "    def __init__(self, name, income):\n",
    "        self.name=name\n",
    "        self.income=income\n",
    "        \n",
    "    def earning(self):\n",
    "        if self.income >= 80000:\n",
    "            return 'High Earning'\n",
    "        elif (self.income<8000) & (self.income>50000):\n",
    "            return \"Medium Earning\"\n",
    "        else:\n",
    "            return \"Low Earning\"\n",
    "        \n",
    "\n",
    "employee1=Employee('Matt',50000)\n",
    "level_earning=employee1.earning()\n",
    "print(employee1.name, \"=\", level_earning)\n",
    "\n",
    "employee2=Employee('Penelope',90000)\n",
    "level_earning=employee2.earning()\n",
    "print(employee2.name, \"=\", level_earning)"
   ]
  },
  {
   "cell_type": "code",
   "execution_count": 15,
   "metadata": {},
   "outputs": [
    {
     "name": "stdout",
     "output_type": "stream",
     "text": [
      "The perimeter of the R rectangle is 26\n"
     ]
    }
   ],
   "source": [
    "class Rectangle:\n",
    "    def __init__(self,a,b,c,d):\n",
    "        self.a=a\n",
    "        self.b=b\n",
    "        self.c=c\n",
    "        self.d=d\n",
    "        \n",
    "    def perimeter(self):\n",
    "        perimeter=self.a + self.b +self.c +self.d\n",
    "        return perimeter\n",
    "    \n",
    "\n",
    "R=Rectangle(4,4,9,9)\n",
    "per=R.perimeter()\n",
    "print(\"The perimeter of the R rectangle is\", per)"
   ]
  },
  {
   "cell_type": "code",
   "execution_count": null,
   "metadata": {},
   "outputs": [],
   "source": []
  }
 ],
 "metadata": {
  "kernelspec": {
   "display_name": "Python 3",
   "language": "python",
   "name": "python3"
  },
  "language_info": {
   "codemirror_mode": {
    "name": "ipython",
    "version": 3
   },
   "file_extension": ".py",
   "mimetype": "text/x-python",
   "name": "python",
   "nbconvert_exporter": "python",
   "pygments_lexer": "ipython3",
   "version": "3.6.9"
  }
 },
 "nbformat": 4,
 "nbformat_minor": 2
}
